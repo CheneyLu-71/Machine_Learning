{
 "cells": [
  {
   "cell_type": "markdown",
   "metadata": {},
   "source": [
    "### numpy中有生成伪随机数的模块random，可以使用该模块生成各种常见分布的伪随机数，并计算其统计量。"
   ]
  },
  {
   "cell_type": "code",
   "execution_count": 1,
   "metadata": {},
   "outputs": [],
   "source": [
    "import numpy as np   # 导入numpy包\n",
    "import matplotlib.pyplot as plt   # 导入matplotlib包，用于画图"
   ]
  },
  {
   "cell_type": "markdown",
   "metadata": {},
   "source": [
    "## 生成随机数"
   ]
  },
  {
   "cell_type": "code",
   "execution_count": 2,
   "metadata": {},
   "outputs": [],
   "source": [
    "# 设定随机数生成器种子\n",
    "np.random.seed(123)"
   ]
  },
  {
   "cell_type": "code",
   "execution_count": 3,
   "metadata": {},
   "outputs": [
    {
     "data": {
      "text/plain": [
       "array([[0.69646919, 0.28613933, 0.22685145],\n",
       "       [0.55131477, 0.71946897, 0.42310646]])"
      ]
     },
     "execution_count": 3,
     "metadata": {},
     "output_type": "execute_result"
    }
   ],
   "source": [
    "# 生成（0，1）区间上的均匀分布随机数\n",
    "np.random.rand(2, 3)"
   ]
  },
  {
   "cell_type": "code",
   "execution_count": 4,
   "metadata": {},
   "outputs": [
    {
     "data": {
      "text/plain": [
       "array([[-2.42667924, -0.42891263],\n",
       "       [ 1.26593626, -0.8667404 ]])"
      ]
     },
     "execution_count": 4,
     "metadata": {},
     "output_type": "execute_result"
    }
   ],
   "source": [
    "# 生成标准正态分布的随机数\n",
    "np.random.randn(2, 2)"
   ]
  },
  {
   "cell_type": "code",
   "execution_count": 5,
   "metadata": {},
   "outputs": [
    {
     "data": {
      "text/plain": [
       "array([4, 5, 1, 1, 5])"
      ]
     },
     "execution_count": 5,
     "metadata": {},
     "output_type": "execute_result"
    }
   ],
   "source": [
    "# 返回给定上下界范围内的随机整数\n",
    "np.random.randint(1, 10, 5)"
   ]
  },
  {
   "cell_type": "markdown",
   "metadata": {},
   "source": [
    "## 常见分布的随机数及统计量\n",
    "## 1.正态分布"
   ]
  },
  {
   "cell_type": "code",
   "execution_count": 6,
   "metadata": {},
   "outputs": [
    {
     "data": {
      "text/plain": [
       "array([-2.67794163,  9.11349937,  1.94538752, -0.8534331 , -5.92789221,\n",
       "       -1.47134403,  7.8417504 ,  0.77463673, -3.24119819, -6.28831349])"
      ]
     },
     "execution_count": 6,
     "metadata": {},
     "output_type": "execute_result"
    }
   ],
   "source": [
    "# 生成十个服从正态分布的伪随机数\n",
    "x = np.random.normal(1, 4, size=10)\n",
    "x"
   ]
  },
  {
   "cell_type": "code",
   "execution_count": 7,
   "metadata": {},
   "outputs": [
    {
     "name": "stdout",
     "output_type": "stream",
     "text": [
      "正态分布随机数的最大值为：3.679640840244386\n",
      "正态分布随机数的最小值为：-3.7952645259423545\n",
      "正态分布随机数的极差为：7.474905366186741\n",
      "正态分布随机数的中位数为：0.010893285297116823\n",
      "正态分布随机数的均值为：-0.002484314483456368\n",
      "正态分布随机数的标准差为：1.0120662660802047\n",
      "正态分布随机数的方差为：1.0242781269375278\n"
     ]
    }
   ],
   "source": [
    "# 编写计算正态分布随机数统计量的函数\n",
    "def normal(mu, sigma):\n",
    "    sample = np.random.normal(mu, sigma, size=10000)    # 生成10000个正态分布的随机数\n",
    "    print(f\"正态分布随机数的最大值为：{np.amax(sample)}\")   # 计算正态分布随机数的最大值\n",
    "    print(f\"正态分布随机数的最小值为：{np.amin(sample)}\")   # 计算正态分布随机数的最小值\n",
    "    print(f\"正态分布随机数的极差为：{np.ptp(sample)}\")      # 计算正态分布随机数的极值\n",
    "    print(f\"正态分布随机数的中位数为：{np.median(sample)}\")   # 计算正态分布随机数的中位数\n",
    "    print(f\"正态分布随机数的均值为：{np.mean(sample)}\")      # 计算正态分布随机数的均值\n",
    "    print(f\"正态分布随机数的标准差为：{np.std(sample)}\")     # 计算正态分布随机数的标准差\n",
    "    print(f\"正态分布随机数的方差为：{np.var(sample)}\")       # 计算正态分布随机数的方差\n",
    "\n",
    "normal(0,1)"
   ]
  },
  {
   "cell_type": "code",
   "execution_count": 8,
   "metadata": {},
   "outputs": [
    {
     "name": "stderr",
     "output_type": "stream",
     "text": [
      "/Users/cheneylu/opt/anaconda3/lib/python3.7/site-packages/ipykernel_launcher.py:4: MatplotlibDeprecationWarning: \n",
      "The 'normed' kwarg was deprecated in Matplotlib 2.1 and will be removed in 3.1. Use 'density' instead.\n",
      "  after removing the cwd from sys.path.\n",
      "/Users/cheneylu/opt/anaconda3/lib/python3.7/site-packages/matplotlib/backends/backend_agg.py:211: RuntimeWarning: Glyph 8722 missing from current font.\n",
      "  font.set_text(s, 0.0, flags=flags)\n",
      "/Users/cheneylu/opt/anaconda3/lib/python3.7/site-packages/matplotlib/backends/backend_agg.py:180: RuntimeWarning: Glyph 8722 missing from current font.\n",
      "  font.set_text(s, 0, flags=flags)\n"
     ]
    },
    {
     "data": {
      "image/png": "[encoded data removed]",
      "text/plain": [
       "<Figure size 432x288 with 1 Axes>"
      ]
     },
     "metadata": {
      "needs_background": "light"
     },
     "output_type": "display_data"
    }
   ],
   "source": [
    "# 编写绘制正态分布图的函数\n",
    "def normal_plot(mu, sigma):\n",
    "    sample = np.random.normal(mu, sigma, size=10000)\n",
    "    plt.hist(sample, bins=100, alpha=0.7, normed=True)    # 画出随机数的直方图\n",
    "    x = np.arange(-5, 5, 0.01)\n",
    "    y = 1.0 / (sigma * np.sqrt(2*np.pi)) * np.exp(-((x - mu)**2) / (2* sigma**2))   # 正态分布的密度函数\n",
    "    plt.plot(x, y, color='orange', lw=3)    # 画出正态分布的概率密度曲线\n",
    "    plt.title(\"Normal distribution\")\n",
    "    plt.show()\n",
    "\n",
    "normal_plot(0,1)"
   ]
  },
  {
   "cell_type": "markdown",
   "metadata": {},
   "source": [
    "## 2.泊松分布"
   ]
  },
  {
   "cell_type": "code",
   "execution_count": 9,
   "metadata": {},
   "outputs": [
    {
     "data": {
      "text/plain": [
       "array([2, 0, 0, 1, 3, 1, 2, 1, 1, 2])"
      ]
     },
     "execution_count": 9,
     "metadata": {},
     "output_type": "execute_result"
    }
   ],
   "source": [
    "# 生成十个服从泊松分布的伪随机数\n",
    "x = np.random.poisson(lam=1.0, size=10)\n",
    "x"
   ]
  },
  {
   "cell_type": "code",
   "execution_count": 10,
   "metadata": {},
   "outputs": [
    {
     "name": "stdout",
     "output_type": "stream",
     "text": [
      "泊松分布随机数的最大值为：16\n",
      "泊松分布随机数的最小值为：0\n",
      "泊松分布随机数的极差为：16\n",
      "泊松分布随机数的中位数为：6.0\n",
      "泊松分布随机数的均值为：6.0274\n",
      "泊松分布随机数的标准差为：2.443040982054947\n",
      "泊松分布随机数的方差为：5.96844924\n"
     ]
    }
   ],
   "source": [
    "# 编写计算泊松分布随机数统计量的函数\n",
    "def poisson(lamb):\n",
    "    sample = np.random.poisson(lamb, size=10000)    # 生成10000个泊松分布的随机数\n",
    "    print(f\"泊松分布随机数的最大值为：{np.amax(sample)}\")   # 计算泊松分布随机数的最大值\n",
    "    print(f\"泊松分布随机数的最小值为：{np.amin(sample)}\")   # 计算泊松分布随机数的最小值\n",
    "    print(f\"泊松分布随机数的极差为：{np.ptp(sample)}\")      # 计算泊松分布随机数的极值\n",
    "    print(f\"泊松分布随机数的中位数为：{np.median(sample)}\")   # 计算泊松分布随机数的中位数\n",
    "    print(f\"泊松分布随机数的均值为：{np.mean(sample)}\")      # 计算泊松分布随机数的均值\n",
    "    print(f\"泊松分布随机数的标准差为：{np.std(sample)}\")     # 计算泊松分布随机数的标准差\n",
    "    print(f\"泊松分布随机数的方差为：{np.var(sample)}\")       # 计算泊松分布随机数的方差\n",
    "\n",
    "poisson(6)"
   ]
  },
  {
   "cell_type": "code",
   "execution_count": 11,
   "metadata": {},
   "outputs": [
    {
     "name": "stderr",
     "output_type": "stream",
     "text": [
      "/Users/cheneylu/opt/anaconda3/lib/python3.7/site-packages/ipykernel_launcher.py:4: MatplotlibDeprecationWarning: \n",
      "The 'normed' kwarg was deprecated in Matplotlib 2.1 and will be removed in 3.1. Use 'density' instead.\n",
      "  after removing the cwd from sys.path.\n"
     ]
    },
    {
     "data": {
      "image/png": "[encoded data removed]",
      "text/plain": [
       "<Figure size 432x288 with 1 Axes>"
      ]
     },
     "metadata": {
      "needs_background": "light"
     },
     "output_type": "display_data"
    }
   ],
   "source": [
    "# 编写绘制泊松分布图的函数\n",
    "def possion_plot(lamb):\n",
    "    sample = np.random.poisson(lamb, size=10000)\n",
    "    plt.hist(sample, bins=100, align='left', normed=True)    # 画出随机数的直方图\n",
    "    plt.title(\"Poisson distribution\")\n",
    "    plt.show()\n",
    "\n",
    "possion_plot(6)"
   ]
  },
  {
   "cell_type": "markdown",
   "metadata": {},
   "source": [
    "## 3.均匀分布"
   ]
  },
  {
   "cell_type": "code",
   "execution_count": 12,
   "metadata": {},
   "outputs": [
    {
     "data": {
      "text/plain": [
       "array([6.95286219, 4.82893545, 6.42438408, 5.0338357 , 6.48594835,\n",
       "       4.96817106, 7.45136811, 7.36484782, 5.83428442, 3.26032681])"
      ]
     },
     "execution_count": 12,
     "metadata": {},
     "output_type": "execute_result"
    }
   ],
   "source": [
    "# 生成十个服从均匀分布的伪随机数\n",
    "x = np.random.uniform(1, 8, size=10)\n",
    "x"
   ]
  },
  {
   "cell_type": "code",
   "execution_count": 13,
   "metadata": {},
   "outputs": [
    {
     "name": "stdout",
     "output_type": "stream",
     "text": [
      "均匀分布随机数的最大值为：7.9986183066448175\n",
      "均匀分布随机数的最小值为：1.0000369642718554\n",
      "均匀分布随机数的极差为：6.998581342372962\n",
      "均匀分布随机数的中位数为：4.489314503461608\n",
      "均匀分布随机数的均值为：4.507727962190249\n",
      "均匀分布随机数的标准差为：2.0112945502630435\n",
      "均匀分布随机数的方差为：4.045305767917818\n"
     ]
    }
   ],
   "source": [
    "# 编写计算均匀分布随机数统计量的函数\n",
    "def uniform(a, b):\n",
    "    sample = np.random.uniform(a, b, size=10000)       # 生成10000个均匀分布的随机数\n",
    "    print(f\"均匀分布随机数的最大值为：{np.amax(sample)}\")   # 计算均匀分布随机数的最大值\n",
    "    print(f\"均匀分布随机数的最小值为：{np.amin(sample)}\")   # 计算均匀分布随机数的最小值\n",
    "    print(f\"均匀分布随机数的极差为：{np.ptp(sample)}\")      # 计算均匀分布随机数的极差\n",
    "    print(f\"均匀分布随机数的中位数为：{np.median(sample)}\")  # 计算均匀分布随机数的中位数\n",
    "    print(f\"均匀分布随机数的均值为：{np.mean(sample)}\")      # 计算均匀分布随机数的均值\n",
    "    print(f\"均匀分布随机数的标准差为：{np.std(sample)}\")     # 计算均匀分布随机数的标准差\n",
    "    print(f\"均匀分布随机数的方差为：{np.var(sample)}\")       # 计算均匀分布随机数的方差\n",
    "    \n",
    "uniform(1,8)"
   ]
  },
  {
   "cell_type": "code",
   "execution_count": 14,
   "metadata": {},
   "outputs": [
    {
     "name": "stderr",
     "output_type": "stream",
     "text": [
      "/Users/cheneylu/opt/anaconda3/lib/python3.7/site-packages/ipykernel_launcher.py:4: MatplotlibDeprecationWarning: \n",
      "The 'normed' kwarg was deprecated in Matplotlib 2.1 and will be removed in 3.1. Use 'density' instead.\n",
      "  after removing the cwd from sys.path.\n"
     ]
    },
    {
     "data": {
      "image/png": "[encoded data removed]",
      "text/plain": [
       "<Figure size 432x288 with 1 Axes>"
      ]
     },
     "metadata": {
      "needs_background": "light"
     },
     "output_type": "display_data"
    }
   ],
   "source": [
    "# 编写绘制均匀分布图的函数\n",
    "def uniform_plot(a, b):\n",
    "    sample = np.random.uniform(a, b, size=10000)\n",
    "    plt.hist(sample, bins=1000, alpha=0.7, normed=True)    # 画出随机数的直方图\n",
    "    plt.title(\"Uniform distribution\")\n",
    "    plt.show()\n",
    "\n",
    "uniform_plot(1, 8)"
   ]
  },
  {
   "cell_type": "markdown",
   "metadata": {},
   "source": [
    "## 4.二项分布"
   ]
  },
  {
   "cell_type": "code",
   "execution_count": 15,
   "metadata": {},
   "outputs": [
    {
     "data": {
      "text/plain": [
       "array([4, 6, 4, 5, 5, 8, 5, 7, 4, 7])"
      ]
     },
     "execution_count": 15,
     "metadata": {},
     "output_type": "execute_result"
    }
   ],
   "source": [
    "# 生成十个服从二项分布的伪随机数\n",
    "x = np.random.binomial(10, 0.6, size=10)\n",
    "x"
   ]
  },
  {
   "cell_type": "code",
   "execution_count": 16,
   "metadata": {},
   "outputs": [
    {
     "name": "stdout",
     "output_type": "stream",
     "text": [
      "二项分布随机数的最大值为：10\n",
      "二项分布随机数的最小值为：1\n",
      "二项分布随机数的极差为：9\n",
      "二项分布随机数的中位数为：6.0\n",
      "二项分布随机数的均值为：5.9932\n",
      "二项分布随机数的标准差为：1.545300540348058\n",
      "二项分布随机数的方差为：2.3879537600000003\n"
     ]
    }
   ],
   "source": [
    "# 编写计算二项分布随机数统计量的函数\n",
    "def binomial(n, p):\n",
    "    sample = np.random.binomial(n, p, size=10000)       # 生成10000个二项分布的随机数\n",
    "    print(f\"二项分布随机数的最大值为：{np.amax(sample)}\")   # 计算二项分布随机数的最大值\n",
    "    print(f\"二项分布随机数的最小值为：{np.amin(sample)}\")   # 计算二项分布随机数的最小值\n",
    "    print(f\"二项分布随机数的极差为：{np.ptp(sample)}\")      # 计算二项分布随机数的极差\n",
    "    print(f\"二项分布随机数的中位数为：{np.median(sample)}\")  # 计算二项分布随机数的中位数\n",
    "    print(f\"二项分布随机数的均值为：{np.mean(sample)}\")      # 计算二项分布随机数的均值\n",
    "    print(f\"二项分布随机数的标准差为：{np.std(sample)}\")     # 计算二项分布随机数的标准差\n",
    "    print(f\"二项分布随机数的方差为：{np.var(sample)}\")       # 计算二项分布随机数的方差\n",
    "    \n",
    "binomial(10,0.6)"
   ]
  },
  {
   "cell_type": "code",
   "execution_count": 17,
   "metadata": {},
   "outputs": [
    {
     "name": "stderr",
     "output_type": "stream",
     "text": [
      "/Users/cheneylu/opt/anaconda3/lib/python3.7/site-packages/ipykernel_launcher.py:5: MatplotlibDeprecationWarning: \n",
      "The 'normed' kwarg was deprecated in Matplotlib 2.1 and will be removed in 3.1. Use 'density' instead.\n",
      "  \"\"\"\n"
     ]
    },
    {
     "data": {
      "image/png": "[encoded data removed]",
      "text/plain": [
       "<Figure size 432x288 with 1 Axes>"
      ]
     },
     "metadata": {
      "needs_background": "light"
     },
     "output_type": "display_data"
    }
   ],
   "source": [
    "# 编写绘制二项分布图的函数\n",
    "def binomial_plot(n, p):\n",
    "    sample = np.random.binomial(n, p, size=10000)\n",
    "    bins = np.arange(n + 2)\n",
    "    plt.hist(sample, bins=bins, align='left', normed=True, rwidth=0.2)    # 画出随机数的直方图\n",
    "    plt.title(\"Binomial distribution\")\n",
    "    plt.show()\n",
    "\n",
    "binomial_plot(10, 0.6)"
   ]
  },
  {
   "cell_type": "markdown",
   "metadata": {},
   "source": [
    "## 5.指数分布"
   ]
  },
  {
   "cell_type": "code",
   "execution_count": 18,
   "metadata": {},
   "outputs": [
    {
     "data": {
      "text/plain": [
       "array([0.31662425, 0.37646691, 0.23382751, 2.26747   , 1.84259241,\n",
       "       0.97550079, 0.93100145, 0.45434128, 0.18811412, 1.1386911 ])"
      ]
     },
     "execution_count": 18,
     "metadata": {},
     "output_type": "execute_result"
    }
   ],
   "source": [
    "# 生成十个服从指数分布的伪随机数\n",
    "x = np.random.exponential(0.8, size=10)\n",
    "x"
   ]
  },
  {
   "cell_type": "code",
   "execution_count": 19,
   "metadata": {},
   "outputs": [
    {
     "name": "stdout",
     "output_type": "stream",
     "text": [
      "指数分布随机数的最大值为：8.488011726656659\n",
      "指数分布随机数的最小值为：4.197090187412911e-05\n",
      "指数分布随机数的极差为：8.487969755754785\n",
      "指数分布随机数的中位数为：0.5559563239166443\n",
      "指数分布随机数的均值为：0.8081351832709018\n",
      "指数分布随机数的标准差为：0.8035447629448268\n",
      "指数分布随机数的方差为：0.6456841860560579\n"
     ]
    }
   ],
   "source": [
    "# 编写计算指数分布随机数统计量的函数\n",
    "def exponential(lamb):\n",
    "    sample = np.random.exponential(lamb, size=10000)       # 生成10000个指数分布的随机数\n",
    "    print(f\"指数分布随机数的最大值为：{np.amax(sample)}\")      # 计算指数分布随机数的最大值\n",
    "    print(f\"指数分布随机数的最小值为：{np.amin(sample)}\")      # 计算指数分布随机数的最小值\n",
    "    print(f\"指数分布随机数的极差为：{np.ptp(sample)}\")        # 计算指数分布随机数的极差\n",
    "    print(f\"指数分布随机数的中位数为：{np.median(sample)}\")    # 计算指数分布随机数的中位数\n",
    "    print(f\"指数分布随机数的均值为：{np.mean(sample)}\")        # 计算指数分布随机数的均值\n",
    "    print(f\"指数分布随机数的标准差为：{np.std(sample)}\")       # 计算指数分布随机数的标准差\n",
    "    print(f\"指数分布随机数的方差为：{np.var(sample)}\")        # 计算指数分布随机数的方差\n",
    "    \n",
    "exponential(0.8)"
   ]
  },
  {
   "cell_type": "code",
   "execution_count": 20,
   "metadata": {},
   "outputs": [
    {
     "name": "stderr",
     "output_type": "stream",
     "text": [
      "/Users/cheneylu/opt/anaconda3/lib/python3.7/site-packages/ipykernel_launcher.py:4: MatplotlibDeprecationWarning: \n",
      "The 'normed' kwarg was deprecated in Matplotlib 2.1 and will be removed in 3.1. Use 'density' instead.\n",
      "  after removing the cwd from sys.path.\n"
     ]
    },
    {
     "data": {
      "image/png": "[encoded data removed]",
      "text/plain": [
       "<Figure size 432x288 with 1 Axes>"
      ]
     },
     "metadata": {
      "needs_background": "light"
     },
     "output_type": "display_data"
    }
   ],
   "source": [
    "# 编写绘制指数分布图的函数\n",
    "def exponential_plot(lamb):\n",
    "    sample = np.random.exponential(lamb, size=10000)\n",
    "    plt.hist(sample, bins=100, alpha=0.7, normed=True)    # 画出随机数的直方图\n",
    "    x = np.arange(0, 10, 0.1)\n",
    "    y = lamb * np.exp(- lamb * x)   # 指数分布的密度函数\n",
    "    plt.plot(x, y , color='orange', lw=3)    # 画出指数分布的概率密度曲线\n",
    "    plt.title(\"Exponential distribution\")\n",
    "    plt.show()\n",
    "\n",
    "exponential_plot(0.8)\n"
   ]
  },
  {
   "cell_type": "markdown",
   "metadata": {},
   "source": [
    "## 6.卡方分布"
   ]
  },
  {
   "cell_type": "code",
   "execution_count": 21,
   "metadata": {},
   "outputs": [
    {
     "data": {
      "text/plain": [
       "array([ 6.62421779,  4.69711924,  7.84595717,  6.33315147,  8.76674088,\n",
       "        9.60165107,  2.04005122, 13.37627873,  3.10223943,  6.2976914 ])"
      ]
     },
     "execution_count": 21,
     "metadata": {},
     "output_type": "execute_result"
    }
   ],
   "source": [
    "# 生成十个服从卡方分布的伪随机数\n",
    "x = np.random.chisquare(7, size=10)\n",
    "x"
   ]
  },
  {
   "cell_type": "code",
   "execution_count": 22,
   "metadata": {},
   "outputs": [
    {
     "name": "stdout",
     "output_type": "stream",
     "text": [
      "卡方分布随机数的最大值为：29.4064841743761\n",
      "卡方分布随机数的最小值为：0.2573409285419269\n",
      "卡方分布随机数的极差为：29.149143245834175\n",
      "卡方分布随机数的中位数为：6.371703303069632\n",
      "卡方分布随机数的均值为：7.01959223142643\n",
      "卡方分布随机数的标准差为：3.716483944449722\n",
      "卡方分布随机数的方差为：13.812252909352566\n"
     ]
    }
   ],
   "source": [
    "# 编写计算卡方分布随机数统计量的函数\n",
    "def chisquare(df):\n",
    "    sample = np.random.chisquare(df, size=10000)        # 生成10000个卡方分布的随机数\n",
    "    print(f\"卡方分布随机数的最大值为：{np.amax(sample)}\")    # 计算卡方分布随机数的最大值\n",
    "    print(f\"卡方分布随机数的最小值为：{np.amin(sample)}\")    # 计算卡方分布随机数的最小值\n",
    "    print(f\"卡方分布随机数的极差为：{np.ptp(sample)}\")       # 计算卡方分布随机数的极差\n",
    "    print(f\"卡方分布随机数的中位数为：{np.median(sample)}\")   # 计算卡方分布随机数的中位数\n",
    "    print(f\"卡方分布随机数的均值为：{np.mean(sample)}\")       # 计算卡方分布随机数的均值\n",
    "    print(f\"卡方分布随机数的标准差为：{np.std(sample)}\")      # 计算卡方分布随机数的标准差\n",
    "    print(f\"卡方分布随机数的方差为：{np.var(sample)}\")        # 计算卡方分布随机数的方差\n",
    "    \n",
    "chisquare(7)"
   ]
  },
  {
   "cell_type": "code",
   "execution_count": 23,
   "metadata": {},
   "outputs": [
    {
     "name": "stderr",
     "output_type": "stream",
     "text": [
      "/Users/cheneylu/opt/anaconda3/lib/python3.7/site-packages/ipykernel_launcher.py:4: MatplotlibDeprecationWarning: \n",
      "The 'normed' kwarg was deprecated in Matplotlib 2.1 and will be removed in 3.1. Use 'density' instead.\n",
      "  after removing the cwd from sys.path.\n"
     ]
    },
    {
     "data": {
      "image/png": "[encoded data removed]",
      "text/plain": [
       "<Figure size 432x288 with 1 Axes>"
      ]
     },
     "metadata": {
      "needs_background": "light"
     },
     "output_type": "display_data"
    }
   ],
   "source": [
    "# 编写绘制卡方分布图的函数\n",
    "def chisquare_plot(df):\n",
    "    sample = np.random.chisquare(df, size=10000)\n",
    "    plt.hist(sample, bins=100, alpha=0.7, normed=True)    # 画出随机数的直方图\n",
    "    plt.title(\"Chisquare distribution\")\n",
    "    plt.show()\n",
    "\n",
    "chisquare_plot(7)\n"
   ]
  },
  {
   "cell_type": "markdown",
   "metadata": {},
   "source": [
    "## 7.Gamma分布"
   ]
  },
  {
   "cell_type": "code",
   "execution_count": 24,
   "metadata": {},
   "outputs": [
    {
     "data": {
      "text/plain": [
       "array([0.58492524, 0.20568006, 0.62208738, 1.54050211, 1.36465745,\n",
       "       1.56593723, 0.53955994, 0.28140498, 0.51281034, 2.65840262])"
      ]
     },
     "execution_count": 24,
     "metadata": {},
     "output_type": "execute_result"
    }
   ],
   "source": [
    "# 生成十个服从Gamma分布的伪随机数\n",
    "x = np.random.gamma(1, 1, size=10)\n",
    "x"
   ]
  },
  {
   "cell_type": "code",
   "execution_count": 25,
   "metadata": {},
   "outputs": [
    {
     "name": "stdout",
     "output_type": "stream",
     "text": [
      "Gamma分布随机数的最大值为：10.171603459411955\n",
      "Gamma分布随机数的最小值为：0.00012666745706568298\n",
      "Gamma分布随机数的极差为：10.17147679195489\n",
      "Gamma分布随机数的中位数为：0.6864354002085045\n",
      "Gamma分布随机数的均值为：0.9949806945322954\n",
      "Gamma分布随机数的标准差为：0.9943770747758561\n",
      "Gamma分布随机数的方差为：0.9887857668397886\n"
     ]
    }
   ],
   "source": [
    "# 编写计算Gamma分布随机数统计量的函数\n",
    "def gamma(alpha, beta):\n",
    "    sample = np.random.gamma(alpha, beta, size=10000)     # 生成10000个Gamma分布的随机数\n",
    "    print(f\"Gamma分布随机数的最大值为：{np.amax(sample)}\")    # 计算Gamma分布随机数的最大值\n",
    "    print(f\"Gamma分布随机数的最小值为：{np.amin(sample)}\")    # 计算Gamma分布随机数的最小值\n",
    "    print(f\"Gamma分布随机数的极差为：{np.ptp(sample)}\")       # 计算Gamma分布随机数的极差\n",
    "    print(f\"Gamma分布随机数的中位数为：{np.median(sample)}\")   # 计算Gamma分布随机数的中位数\n",
    "    print(f\"Gamma分布随机数的均值为：{np.mean(sample)}\")       # 计算Gamma分布随机数的均值\n",
    "    print(f\"Gamma分布随机数的标准差为：{np.std(sample)}\")      # 计算Gamma分布随机数的标准差\n",
    "    print(f\"Gamma分布随机数的方差为：{np.var(sample)}\")        # 计算Gamma分布随机数的方差\n",
    "    \n",
    "gamma(1, 1)"
   ]
  },
  {
   "cell_type": "code",
   "execution_count": 26,
   "metadata": {},
   "outputs": [
    {
     "name": "stderr",
     "output_type": "stream",
     "text": [
      "/Users/cheneylu/opt/anaconda3/lib/python3.7/site-packages/ipykernel_launcher.py:4: MatplotlibDeprecationWarning: \n",
      "The 'normed' kwarg was deprecated in Matplotlib 2.1 and will be removed in 3.1. Use 'density' instead.\n",
      "  after removing the cwd from sys.path.\n"
     ]
    },
    {
     "data": {
      "image/png": "[encoded data removed]",
      "text/plain": [
       "<Figure size 432x288 with 1 Axes>"
      ]
     },
     "metadata": {
      "needs_background": "light"
     },
     "output_type": "display_data"
    }
   ],
   "source": [
    "# 编写绘制Gamma分布图的函数\n",
    "def gamma_plot(alpha, beta):\n",
    "    sample = np.random.gamma(alpha, beta, size=10000)\n",
    "    plt.hist(sample, bins=100, alpha=0.7, normed=True)    # 画出随机数的直方图\n",
    "    plt.title(\"Gamma distribution\")\n",
    "    plt.show()\n",
    "\n",
    "gamma_plot(1, 1)"
   ]
  },
  {
   "cell_type": "markdown",
   "metadata": {},
   "source": [
    "## 8.Beta分布"
   ]
  },
  {
   "cell_type": "code",
   "execution_count": 27,
   "metadata": {},
   "outputs": [
    {
     "data": {
      "text/plain": [
       "array([0.35336065, 0.62280375, 0.78302873, 0.03565641, 0.01884274,\n",
       "       0.07486935, 0.17307432, 0.9234441 , 0.176615  , 0.30120317])"
      ]
     },
     "execution_count": 27,
     "metadata": {},
     "output_type": "execute_result"
    }
   ],
   "source": [
    "# 生成十个服从Beta分布的伪随机数\n",
    "x = np.random.beta(1, 2, size=10)\n",
    "x"
   ]
  },
  {
   "cell_type": "code",
   "execution_count": 28,
   "metadata": {},
   "outputs": [
    {
     "name": "stdout",
     "output_type": "stream",
     "text": [
      "beta分布随机数的最大值为：0.9925300544696681\n",
      "beta分布随机数的最小值为：4.6341327031514196e-05\n",
      "beta分布随机数的极差为：0.9924837131426366\n",
      "beta分布随机数的中位数为：0.2964126486087749\n",
      "beta分布随机数的均值为：0.33499605776414704\n",
      "beta分布随机数的标准差为：0.2361247008995169\n",
      "beta分布随机数的方差为：0.05575487437488632\n"
     ]
    }
   ],
   "source": [
    "# 编写计算Beta分布随机数统计量的函数\n",
    "def beta(alpha, beta):\n",
    "    sample = np.random.beta(alpha, beta, size=10000)      # 生成10000个beta分布的随机数\n",
    "    print(f\"beta分布随机数的最大值为：{np.amax(sample)}\")     # 计算beta分布随机数的最大值\n",
    "    print(f\"beta分布随机数的最小值为：{np.amin(sample)}\")     # 计算beta分布随机数的最小值\n",
    "    print(f\"beta分布随机数的极差为：{np.ptp(sample)}\")        # 计算beta分布随机数的极差\n",
    "    print(f\"beta分布随机数的中位数为：{np.median(sample)}\")   # 计算beta分布随机数的中位数\n",
    "    print(f\"beta分布随机数的均值为：{np.mean(sample)}\")       # 计算beta分布随机数的均值\n",
    "    print(f\"beta分布随机数的标准差为：{np.std(sample)}\")       # 计算beta分布随机数的标准差\n",
    "    print(f\"beta分布随机数的方差为：{np.var(sample)}\")         # 计算beta分布随机数的方差\n",
    "    \n",
    "beta(1,2)"
   ]
  },
  {
   "cell_type": "code",
   "execution_count": 29,
   "metadata": {},
   "outputs": [
    {
     "name": "stderr",
     "output_type": "stream",
     "text": [
      "/Users/cheneylu/opt/anaconda3/lib/python3.7/site-packages/ipykernel_launcher.py:4: MatplotlibDeprecationWarning: \n",
      "The 'normed' kwarg was deprecated in Matplotlib 2.1 and will be removed in 3.1. Use 'density' instead.\n",
      "  after removing the cwd from sys.path.\n"
     ]
    },
    {
     "data": {
      "image/png": "[encoded data removed]",
      "text/plain": [
       "<Figure size 432x288 with 1 Axes>"
      ]
     },
     "metadata": {
      "needs_background": "light"
     },
     "output_type": "display_data"
    }
   ],
   "source": [
    "# 编写绘制Beta分布图的函数\n",
    "def beta_plot(alpha, beta):\n",
    "    sample = np.random.beta(alpha, beta, size=10000)\n",
    "    plt.hist(sample, bins=100, alpha=0.7, normed=True)    # 画出随机数的直方图\n",
    "    plt.title(\"Beta distribution\")\n",
    "    plt.show()\n",
    "\n",
    "beta_plot(1, 2)"
   ]
  }
 ],
 "metadata": {
  "kernelspec": {
   "display_name": "Python 3",
   "language": "python",
   "name": "python3"
  },
  "language_info": {
   "codemirror_mode": {
    "name": "ipython",
    "version": 3
   },
   "file_extension": ".py",
   "mimetype": "text/x-python",
   "name": "python",
   "nbconvert_exporter": "python",
   "pygments_lexer": "ipython3",
   "version": "3.7.6"
  }
 },
 "nbformat": 4,
 "nbformat_minor": 4
}
