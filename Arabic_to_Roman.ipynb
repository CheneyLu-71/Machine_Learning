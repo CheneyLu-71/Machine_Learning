{
 "cells": [
  {
   "cell_type": "markdown",
   "metadata": {},
   "source": [
    "罗马数字共有7个，即Ⅰ（1）、Ⅴ（5）、Ⅹ（10）、Ⅼ（50）、Ⅽ（100）、Ⅾ（500）和Ⅿ（1000），罗马数字中没有“0”，与进位制无关。\n",
    "     \n",
    "    1.只有一种正确的途径用阿拉伯数字表示罗马数字。\n",
    "    2.反过来一样，一个字符串类型的有效的罗马数字也仅可以表示一个阿拉伯数字（即，这种转换方式也是只有一种）。\n",
    "    3.只有有限范围的阿拉伯数字可以以罗马数字表示，那就是1-3999。而罗马数字表示大数字却有几种方式。例如，为了表示一个数字连续出现时正确的值则需要乘以1000。为了达到本节的目的，限定罗马数字在 1 到 3999 之间。\n",
    "    4.无法用罗马数字来表示 0 。\n",
    "    5.无法用罗马数字来表示负数 。\n",
    "    6.无法用罗马数字来表示分数或非整数 。"
   ]
  },
  {
   "cell_type": "code",
   "execution_count": 11,
   "metadata": {},
   "outputs": [
    {
     "name": "stdout",
     "output_type": "stream",
     "text": [
      "Please enter a number:102\n",
      "CII\n"
     ]
    }
   ],
   "source": [
    "'''\n",
    "定义一个由阿拉伯数字转化为罗马数字的class类！\n",
    "'''\n",
    "class Arabic_To_Roman:\n",
    "    # 构建阿拉伯数字和罗马数字的对应参考列表\n",
    "    num_refer = [1000, 900, 500, 400, 100, 90, 50, 40, 10, 9, 5, 4, 1]    # 定义阿拉伯数字参考表\n",
    "    roman_refer = ['M', 'CM', 'D', 'CD','C','XC','L','XL','X','IX','V','IV','I']     # 定义罗马数字参考表\n",
    "\n",
    "    def __init__(self, n):\n",
    "        self.n = n\n",
    "\n",
    "    def arabic_to_roman(self):\n",
    "        num = self.n\n",
    "        output = ''    # 定义一个空字符串，用来存储输出的罗马数字字符串\n",
    "        for i in range(len(self.num_refer)):\n",
    "            ''' \n",
    "            divmod()函数接收两个数字型参数，返回一个包含商和余数的元组。\n",
    "            dimod(a, b) 返回的元组表示(a//b, a%b)\n",
    "            '''\n",
    "            factor, num = divmod(num, self.num_refer[i])  \n",
    "            output += self.roman_refer[i] * factor\n",
    "        return output\n",
    "    \n",
    "x = Arabic_To_Roman(int(input(\"Please enter a number:\")))   # 用户输入一个阿拉伯数字\n",
    "print(x.arabic_to_roman())\n",
    "\n",
    "# 输出前1000个罗马数字\n",
    "# for i in range(1000):\n",
    "#     a = Arabic_To_Roman(i)\n",
    "#     print(i, a.arabic_to_roman())"
   ]
  }
 ],
 "metadata": {
  "kernelspec": {
   "display_name": "Python 3",
   "language": "python",
   "name": "python3"
  },
  "language_info": {
   "codemirror_mode": {
    "name": "ipython",
    "version": 3
   },
   "file_extension": ".py",
   "mimetype": "text/x-python",
   "name": "python",
   "nbconvert_exporter": "python",
   "pygments_lexer": "ipython3",
   "version": "3.7.6"
  }
 },
 "nbformat": 4,
 "nbformat_minor": 4
}
